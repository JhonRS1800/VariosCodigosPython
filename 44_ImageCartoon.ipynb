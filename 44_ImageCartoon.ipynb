{
 "cells": [
  {
   "cell_type": "markdown",
   "id": "3190e9d1",
   "metadata": {},
   "source": [
    "## Cartoonizacion de una imagen\n",
    "\n",
    "* FECHA DE INICIO DE CODIFICACION 01/11/22\n",
    "* ULTIMA EDICION AL CODIGO: 01/11/22\n",
    "* ESTADO: SIN TERMINAR Y SIN FUNCIONAR\n"
   ]
  },
  {
   "cell_type": "code",
   "execution_count": 13,
   "id": "ea7fdc2e",
   "metadata": {},
   "outputs": [
    {
     "data": {
      "text/plain": [
       "0"
      ]
     },
     "execution_count": 13,
     "metadata": {},
     "output_type": "execute_result"
    }
   ],
   "source": [
    "# Importar librerias\n",
    "import cv2\n",
    "import numpy as np\n",
    "from os import system\n",
    "\n",
    "imagen = \"C:/Users/jon_r/Pictures/FOTOS/Mis Fotos/image10.jpg\"\n",
    "\n",
    "# reading image\n",
    "img = cv2.imread(imagen)\n",
    "\n",
    "# Edges\n",
    "gray = cv2.cvtColor(img, cv2.COLOR_BGR2GRAY)\n",
    "gray = cv2.medianBlur(gray, 5)\n",
    "edges = cv2.adaptiveThreshold(gray, 255, cv2.ADAPTIVE_THRESH_MEAN_C, cv2.THRESH_BINARY, 9, 9)\n",
    "\n",
    "# Cartoonizacion\n",
    "color = cv2.bilateralFilter(img, 9, 250, 250)\n",
    "cartoon = cv2.bitwise_and(color, color, mask=edges)\n",
    "\n",
    "cv2.imshow(\"Image\", img)\n",
    "cv2.imshow(\"edges\", edges)\n",
    "cv2.imshow(\"Cartoon\", cartoon)\n",
    "cv2.waitKey(0)\n",
    "cv2.destroyAllWindows()\n",
    "\n",
    "system(\"pause\")"
   ]
  },
  {
   "cell_type": "code",
   "execution_count": null,
   "id": "a482123e",
   "metadata": {},
   "outputs": [],
   "source": []
  },
  {
   "cell_type": "code",
   "execution_count": null,
   "id": "0c9d391e",
   "metadata": {},
   "outputs": [],
   "source": []
  }
 ],
 "metadata": {
  "kernelspec": {
   "display_name": "Python 3 (ipykernel)",
   "language": "python",
   "name": "python3"
  },
  "language_info": {
   "codemirror_mode": {
    "name": "ipython",
    "version": 3
   },
   "file_extension": ".py",
   "mimetype": "text/x-python",
   "name": "python",
   "nbconvert_exporter": "python",
   "pygments_lexer": "ipython3",
   "version": "3.9.12"
  }
 },
 "nbformat": 4,
 "nbformat_minor": 5
}
