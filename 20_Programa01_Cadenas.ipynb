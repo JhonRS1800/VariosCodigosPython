{
 "cells": [
  {
   "cell_type": "markdown",
   "metadata": {},
   "source": [
    "# PROGRAMAS PYTHON CON OPERADORES CON CADENAS\n",
    "\n",
    "**Programa :** Verificacion si las cadenas python son palindromos o anagramas\n",
    "\n",
    "**Cadenas:** Pueden almacenar una secuencia de caracteres\n",
    "\n",
    "**Indexación en Python Strings:** Como todos los iterables de Python, las cadenas también tienen índice cero. Entonces, los índices válidos para una cadena de longitud N son 0, 1, 2 hasta N – 1.\n",
    "\n",
    "![PythonPalindromo01.jpg](PythonPalindromo01.jpg \"Python Palindromo\")\n",
    "\n",
    "Python también admite la indexación negativa para acceder a elementos desde el final de la cadena. Entonces, -1 es el índice del último carácter de la cadena, -2 es el índice del penúltimo carácter de la cadena, y así sucesivamente.\n",
    "\n",
    "**Inmutabilidad de las cadenas de Python:** Además, las cadenas en Python son inmutables, por lo que podrá modificarlos en su lugar. Sin embargo, puede llamar a varios métodos de cadena en ellos y obtener copias de cadenas con el resultado deseado.\n",
    "\n",
    "# EJERCICIOS\n",
    "## 1. Comprueba si una cadena Python es un palindromo.\n",
    "*Problema: Dada una cadena Python, compruebe si es o no un palindromo. En caso afirmativo, devuelva Verdadero; de lo contrario devuelva Falso.*\n",
    "\n",
    "**Palindromo :** Un palíndromo es una cadena que se lee igual de izquierda a derecha que de derecha a izquierda.\n",
    "\n",
    "![PytonPalindromo02.jpg](PytonPalindromo02.jpg \"Python Palindromo02\")\n",
    "\n",
    "Estos son los pasos para resolver este problema:\n",
    "* Obtener un copia invertida de la cadena y almacenarlo en otra variable, si es necesario.\n",
    "* Compara los valores de la cadena original y la cadena invertida.\n",
    "* Si son iguales, la cuerda es un palíndromo. Así que regresa Verdadero, y pare.\n",
    "* Si las copias original e invertida no son iguales, la cuerda no es un palíndromo. Así que deberíamos volver Falso.\n",
    "\n",
    "La operación clave es obtener una copia invertida de la cadena. En Python, hay algunas formas diferentes de hacer esto, sin embargo, repasaremos dos enfoques:\n",
    "* Usar rebanar cuerda\n",
    "* Usando el patrón de velas del *invertido()* función y el *unirse()* Método\n",
    "\n",
    "### Como invertir una cadena de Python usando Slicing\n",
    "\n",
    "La sintaxis `<any_str>[start: stop: step]` devuelve una porción de la cadena `<any_str>` del start hasta stop, con tamaño de paso step.\n",
    "\n",
    "* Si omites start, el segmento comienza al principio de la cadena.\n",
    "* Si no especifica el stop índice, el segmento se extiende hasta el final de la cadena.\n",
    "* y valores negativos de step se puede utilizar para devolver segmentos a partir del final de la cadena.\n",
    "\n",
    "Entonces `<any_str>[::-1]` devuelve una copia invertida de la cadena.\n",
    "\n",
    "La siguiente celda de código contiene la definición de la función is_palindrome().\n",
    "\n",
    "Toma una cadena como argumento y devuelve True or False dependiendo de si es o no un palíndromo.\n",
    "\n",
    "*Aquí, hemos utilizado el corte de cadenas para obtener una copia inversa de la cadena.*"
   ]
  },
  {
   "cell_type": "code",
   "execution_count": 11,
   "metadata": {},
   "outputs": [],
   "source": [
    "def is_palindrome(this_str):                    #Se define la funcion is_palindrome que determinara si la palabra ingresada es palindromo o no\n",
    "            rev_str = this_str[::-1]            #se define la variable que contiene el reverso de la palabra ingresada\n",
    "            if(this_str==rev_str):\n",
    "                        return True             #Este condicional define si es palindromo o no en funcion de si son iguales o no las dos cadenas comparadas\n",
    "            else:\n",
    "                        return False\n"
   ]
  },
  {
   "cell_type": "markdown",
   "metadata": {},
   "source": [
    "Ahora que hemos definido la función, podemos continuar y llamar con cualquier cadena válida como argumento."
   ]
  },
  {
   "cell_type": "code",
   "execution_count": 12,
   "metadata": {},
   "outputs": [
    {
     "data": {
      "text/plain": [
       "True"
      ]
     },
     "execution_count": 12,
     "metadata": {},
     "output_type": "execute_result"
    }
   ],
   "source": [
    "is_palindrome(\"racecar\")"
   ]
  },
  {
   "cell_type": "markdown",
   "metadata": {},
   "source": [
    "En la celda de código anterior, racecar es un palíndromo. Entonces la función is_palindrome() devoluciones True como se esperaba.\n",
    "\n",
    "Ahora, intente llamar a la función con cualquier cadena que no sea un palíndromo, como river."
   ]
  },
  {
   "cell_type": "code",
   "execution_count": 13,
   "metadata": {},
   "outputs": [
    {
     "data": {
      "text/plain": [
       "False"
      ]
     },
     "execution_count": 13,
     "metadata": {},
     "output_type": "execute_result"
    }
   ],
   "source": [
    "is_palindrome(\"river\")"
   ]
  },
  {
   "cell_type": "markdown",
   "metadata": {},
   "source": [
    "Y como se ve, devuelve False, lo cual es correcto.\n",
    "\n"
   ]
  },
  {
   "cell_type": "markdown",
   "metadata": {},
   "source": [
    "### Como invertir una cadena de python usando reversed() y join()\n",
    "\n",
    "*En Python, puede usar el método `join()` junto con la función `reversed()` para invertir una cadena.*\n",
    "\n",
    "* El proceso de la **reversed()** la función devuelve un iterador inverso a través de los caracteres de la cadena.\n",
    "* El proceso de la **join()** El método se puede usar para unir esos caracteres en el orden inverso.\n",
    "\n",
    "Usando el método anterior, puede reescribir el `is_palindrome()` funcion como en la celda de código a continuación."
   ]
  },
  {
   "cell_type": "code",
   "execution_count": 14,
   "metadata": {},
   "outputs": [
    {
     "data": {
      "text/plain": [
       "False"
      ]
     },
     "execution_count": 14,
     "metadata": {},
     "output_type": "execute_result"
    }
   ],
   "source": [
    "def is_palindrome(this_str):                                # Se define la funcion que contiene en su argumento la cadena de entrada\n",
    "            rev_str = ''.join(reversed(this_str))           # La variable rev_srt es la copia invertida de la cadena de entrada\n",
    "                                                            #           reversed()obtiene la cadena invertida pero por caracteres y requiere\n",
    "                                                            #           de join() para Juntar los caracteres de la cadena\n",
    "            if (this_str == rev_str):                       # El condicional if hace el trabajo de comparacion y en funcion de eso define\n",
    "                                                            #           si eso cierto o falso.\n",
    "                        return True\n",
    "            else:\n",
    "                        return False\n",
    "\n",
    "is_palindrome(\"anita\")\n"
   ]
  },
  {
   "cell_type": "markdown",
   "metadata": {},
   "source": [
    "## 2. Verificar si dos cadenas python son anagramas\n",
    "\n",
    "Otra pregunta popular que puede encontrar en las entrevistas es verificar si un par de hilos str1 y str2 son anagramas.\n",
    "\n",
    "*Se dice que `dos cuerdas son anagramas si los recuentos de los caracteres en las dos cadenas son exactamente iguales`. Esto significa que puede obtener una de las cadenas por permutando or reorganizando los caracteres de la otra cadena.*\n",
    "\n",
    "Los ejemplos de anagramas incluyen `state-taste, save-vase, elbow-below, etc`.\n",
    "\n",
    "![](PythonAnagrama01.jpg \"Python Anagrama\")\n",
    "\n",
    "### Como buscar anagramas usando el objeto de contador python\n",
    "\n",
    "Una forma simple e intuitiva es calcular el número de ocurrencias de cada carácter en las dos cadenas. Y luego verifique si los conteos son iguales.\n",
    "\n",
    "Esto se puede hacer mucho más fácilmente usando el objeto *`Counter`* del módulo *`itertools`*. El objeto Counter devuelve un diccionario de Python: con los caracteres **claves** y los correspondientes **valores**.\n",
    "\n",
    "Considere las cuerdas \"save\" y \"vase\" como se muestra a continuación."
   ]
  },
  {
   "cell_type": "code",
   "execution_count": 15,
   "metadata": {},
   "outputs": [],
   "source": [
    "str1 = \"save\"\n",
    "str2 = \"vase\""
   ]
  },
  {
   "cell_type": "markdown",
   "metadata": {},
   "source": [
    "Aquí, c1 y c2 son objetos de contador que contienen los recuentos de caracteres de las cadenas str1 y str2 respectivamente.\n"
   ]
  },
  {
   "cell_type": "code",
   "execution_count": 16,
   "metadata": {},
   "outputs": [
    {
     "name": "stdout",
     "output_type": "stream",
     "text": [
      "Counter({'s': 1, 'a': 1, 'v': 1, 'e': 1})\n",
      "Counter({'v': 1, 'a': 1, 's': 1, 'e': 1})\n"
     ]
    },
    {
     "data": {
      "text/plain": [
       "True"
      ]
     },
     "execution_count": 16,
     "metadata": {},
     "output_type": "execute_result"
    }
   ],
   "source": [
    "from collections import Counter\n",
    "c1 = Counter(str1)\n",
    "c2 = Counter(str2)\n",
    "print(c1)\n",
    "print(c2)\n",
    "c1 == c2"
   ]
  },
  {
   "cell_type": "markdown",
   "metadata": {},
   "source": [
    "c1 == c2 devuelve True cuando str1 y str2 son anagramas\n",
    "\n",
    "Usando esta lógica, ahora podemos continuar y definir la función are_anagrams() con dos parámetros word1 y word2. En el cuerpo de la función, comprobamos si Counter(word1) == Counter(word2)."
   ]
  },
  {
   "cell_type": "code",
   "execution_count": 21,
   "metadata": {},
   "outputs": [],
   "source": [
    "def are_anagrams(word1,word2):\n",
    "            if Counter(word1)==Counter(word2):\n",
    "                        return True\n",
    "            else:\n",
    "                        return False\n"
   ]
  },
  {
   "cell_type": "markdown",
   "metadata": {},
   "source": [
    "Para verificar, llame are_anagrams() con str1, str2 como los argumentos. Como str1 y str2 son anagramas (“guardar” y “jarrón”), la función devuelve True, cual es correcta."
   ]
  },
  {
   "cell_type": "code",
   "execution_count": 23,
   "metadata": {},
   "outputs": [
    {
     "data": {
      "text/plain": [
       "False"
      ]
     },
     "execution_count": 23,
     "metadata": {},
     "output_type": "execute_result"
    }
   ],
   "source": [
    "are_anagrams(\"guardar\",\"jarron\")"
   ]
  },
  {
   "cell_type": "markdown",
   "metadata": {},
   "source": [
    "### Cómo buscar anagramas usando copias ordenadas de cadenas\n",
    "\n",
    "Hay otra manera de hacer esto.\n",
    "\n",
    "Si dos cadenas son anagramas, entonces sus copias clasificadas son iguales.\n",
    "\n",
    "Entonces podemos reescribir la función are_anagrams() para comprobar si la versión ordenada de str1 es lo mismo que la copia ordenada de str2. Si son iguales, entonces las dos cadenas son anagramas; de lo contrario, no lo son.\n",
    "\n",
    "Usando el método anterior para verificar la igualdad de las copias ordenadas, podemos reescribir la función are_anagrams() como sigue."
   ]
  },
  {
   "cell_type": "code",
   "execution_count": 25,
   "metadata": {},
   "outputs": [],
   "source": [
    "def are_anagrams(word1,word2):\n",
    "            if sorted(word1) == sorted(word2): #Sorted() regresa una lista ordenada en orden ascendente\n",
    "                                                # de los caracteres de la cadena en su argumento\n",
    "                        return True\n",
    "            else:\n",
    "                        return False\n"
   ]
  },
  {
   "cell_type": "markdown",
   "metadata": {},
   "source": [
    "Hagamos ahora algunas llamadas a funciones.\n",
    "\n",
    "* Las cadenas “codo” y “abajo” son anagramas y la función are_anagrams() devoluciones True.\n",
    "* Y \"estado\" y \"probado\" no son anagramas, y la función devuelve False."
   ]
  },
  {
   "cell_type": "code",
   "execution_count": 26,
   "metadata": {},
   "outputs": [
    {
     "data": {
      "text/plain": [
       "False"
      ]
     },
     "execution_count": 26,
     "metadata": {},
     "output_type": "execute_result"
    }
   ],
   "source": [
    "are_anagrams(\"codo\",\"abajo\")"
   ]
  },
  {
   "cell_type": "code",
   "execution_count": 28,
   "metadata": {},
   "outputs": [
    {
     "data": {
      "text/plain": [
       "True"
      ]
     },
     "execution_count": 28,
     "metadata": {},
     "output_type": "execute_result"
    }
   ],
   "source": [
    "are_anagrams(\"state\",\"taste\")"
   ]
  },
  {
   "cell_type": "markdown",
   "metadata": {},
   "source": [
    "## 3. Verificar si una cadena python esta en Mayusculas y Minusculas \n",
    "\n",
    "> **Problema:**  Dada una cadena: el nombre de una persona, con nombre y apellido. Debe verificar si la primera letra del nombre y el apellido están en mayúscula.\n",
    "\n",
    "`Este tipo de casing donde la primera letra de cada palabra está en mayúscula se llama **titulo del caso**`.\n",
    "\n",
    "Así que tienes que comprobar si el nombre está en mayúsculas y minúsculas:\n",
    "\n",
    "1. En caso afirmativo, envíe un mensaje de que el formato está en mayúsculas y minúsculas.\n",
    "\n",
    "2. De lo contrario, devuelva una copia de la cadena formateada en el caso del título\n",
    "\n",
    "* Python tiene un método de cadena incorporado istitle(), que comprueba si una cadena está en el caso del título.\n",
    "\n",
    "> *`<str>.istitle()`* devulve *`True`* si la cuerda *`<str>`* está formateada en el caso del título, de lo contrario, devuelve False.\n",
    "\n",
    "* Y el método de cadena de Python `title()` devuelve una copia de la cadena formateada en el caso del título.\n",
    "Así que ahora puedes usar estos dos métodos para resolver el problema.\n",
    "\n",
    "Definir una función *`check_titlecase()`* que acepta name como argumento.\n",
    "\n",
    "* Puedes llamar al *`istitle()`* en la cadena de entrada para comprobar si está formateada en mayúsculas y minúsculas.\n",
    "* If `True`, puede imprimir que la cadena ya está en mayúsculas y minúsculas.\n",
    "* De lo contrario, puede llamar al `title()` método y devolver una copia de la cadena en el caso del título.\n",
    "\n",
    "La siguiente celda de código muestra la definición de la `check_titlecase()` función."
   ]
  },
  {
   "cell_type": "code",
   "execution_count": 29,
   "metadata": {},
   "outputs": [],
   "source": [
    "def check_titlecase(name):\n",
    "            if name.istitle():\n",
    "                        print(f\"'{name}' is already formatted in title case.\")\n",
    "            else:\n",
    "                        return name.title()"
   ]
  },
  {
   "cell_type": "markdown",
   "metadata": {},
   "source": [
    "Llamemos ahora al `check_titlecase()` método con un argumento."
   ]
  },
  {
   "cell_type": "code",
   "execution_count": 30,
   "metadata": {},
   "outputs": [
    {
     "data": {
      "text/plain": [
       "'Jane Smith'"
      ]
     },
     "execution_count": 30,
     "metadata": {},
     "output_type": "execute_result"
    }
   ],
   "source": [
    "check_titlecase(\"jane smith\")"
   ]
  },
  {
   "cell_type": "markdown",
   "metadata": {},
   "source": [
    "En el resultado anterior, puede ver que la cadena \"Jane Smith\" ahora está en el caso del título.\n",
    "\n",
    "Tomemos otro ejemplo:"
   ]
  },
  {
   "cell_type": "code",
   "execution_count": 31,
   "metadata": {},
   "outputs": [
    {
     "data": {
      "text/plain": [
       "'Agatha Cristie'"
      ]
     },
     "execution_count": 31,
     "metadata": {},
     "output_type": "execute_result"
    }
   ],
   "source": [
    "check_titlecase(\"agatha Cristie\")"
   ]
  },
  {
   "cell_type": "markdown",
   "metadata": {},
   "source": [
    "Esta vez, llamemos a la función con una cadena en mayúsculas y minúsculas."
   ]
  },
  {
   "cell_type": "code",
   "execution_count": 32,
   "metadata": {},
   "outputs": [
    {
     "name": "stdout",
     "output_type": "stream",
     "text": [
      "'Grace Hopper' is already formatted in title case.\n"
     ]
    }
   ],
   "source": [
    "check_titlecase(\"Grace Hopper\")"
   ]
  },
  {
   "cell_type": "markdown",
   "metadata": {},
   "source": [
    "Recibimos una notificación de que la cadena está formateada en el caso del título y la función funciona como se esperaba.\n",
    "\n",
    "# Conclusion\n",
    "\n",
    "Ahora resumamos los problemas que hemos discutido hasta ahora.\n",
    "\n",
    "* Para comprobar si una cadena es un palíndromo, compruebe si la cadena y su versión invertida son iguales. Puede utilizar el corte de cadenas o métodos integrados para invertir las cadenas.\n",
    "* Para comprobar si dos cadenas son anagramas, compruebe si sus copias ordenadas son iguales. Y para ordenar una cadena, use el incorporado ordenado () función.\n",
    "* Para verificar si un nombre está en mayúsculas y minúsculas, use el .istitle() método de verificación y .título() método para obtener una copia en mayúsculas y minúsculas de la cadena."
   ]
  },
  {
   "cell_type": "markdown",
   "metadata": {},
   "source": []
  }
 ],
 "metadata": {
  "kernelspec": {
   "display_name": "Python 3.10.4 64-bit",
   "language": "python",
   "name": "python3"
  },
  "language_info": {
   "codemirror_mode": {
    "name": "ipython",
    "version": 3
   },
   "file_extension": ".py",
   "mimetype": "text/x-python",
   "name": "python",
   "nbconvert_exporter": "python",
   "pygments_lexer": "ipython3",
   "version": "3.10.4"
  },
  "orig_nbformat": 4,
  "vscode": {
   "interpreter": {
    "hash": "5508d35a542872271bb1d1c7b3f059e24b1bbedc8ec34027859e266b42db5b7e"
   }
  }
 },
 "nbformat": 4,
 "nbformat_minor": 2
}
