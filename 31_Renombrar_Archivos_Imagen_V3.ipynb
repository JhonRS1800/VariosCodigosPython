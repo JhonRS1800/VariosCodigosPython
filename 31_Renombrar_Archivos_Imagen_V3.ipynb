{
 "cells": [
  {
   "cell_type": "markdown",
   "metadata": {},
   "source": [
    "# Renombramiento de archivos de imágen contenidos en carpetas\n",
    "\n",
    "## Acerca de\n",
    "Este programa consiste en renombrar todos los archivos contenidos en una carpeta fuente. Los archivos renombrados se guardan en la misma carpeta reemplazando los archivos que fueron renombrados, por lo que, la carpeta fuente será también la carpeta destino.\n",
    "\n",
    "## ¿Cómo usarlo?\n",
    "Su uso es muy sencillo, se ingresa la direccion fuente/destino, se corre el programa y listo.\n",
    "\n",
    "## Programación"
   ]
  },
  {
   "cell_type": "code",
   "execution_count": null,
   "metadata": {},
   "outputs": [],
   "source": [
    "import cv2\n",
    "import os"
   ]
  },
  {
   "cell_type": "markdown",
   "metadata": {},
   "source": [
    "Ingreso de la dirección de la carpeta fuente/destino"
   ]
  },
  {
   "cell_type": "code",
   "execution_count": null,
   "metadata": {},
   "outputs": [],
   "source": [
    "\n",
    "#Direccion de carpeta con mis fotos o imagenes, se debe cambiar la orientacion de el slash\n",
    "# Ejemplo: \"C:/Users/jon_r/Pictures/FOTOS/FOTOS2\"\n",
    "input_images_path = \"C:/Users/jon_r/Pictures/FOTOS/FOTOS\""
   ]
  },
  {
   "cell_type": "markdown",
   "metadata": {},
   "source": [
    "Obtención de una lista con todas las imágenes contenidas en la carpeta fuente"
   ]
  },
  {
   "cell_type": "code",
   "execution_count": null,
   "metadata": {},
   "outputs": [],
   "source": [
    "# Obtencion de una lista con todas las imagenes en la carpeta fuente\n",
    "files_names = os.listdir(input_images_path)\n",
    "print(files_names)\n",
    "print()"
   ]
  },
  {
   "cell_type": "markdown",
   "metadata": {},
   "source": [
    "----------------------------------------------------\n",
    "### FUNCIONES"
   ]
  },
  {
   "cell_type": "code",
   "execution_count": null,
   "metadata": {},
   "outputs": [],
   "source": [
    "def RenombrarSinExtensiones_MismaCarpeta(count):\n",
    "    for file_name in files_names:\n",
    "        # Imprime la direccion de cada una de las imagenes\n",
    "        image_path = input_images_path + \"/\" + file_name\n",
    "        print(image_path) \n",
    "\n",
    "        # Lee cada uno de los archivos\n",
    "        image = cv2.imread(image_path)\n",
    "\n",
    "        # si el archivo leido no es una imagen se lo salta\n",
    "        if image is None:\n",
    "            continue\n",
    "\n",
    "        # Guarda cada una de las imagenes en la carpeta creada anteriormente\n",
    "        cv2.imwrite(input_images_path + \"/imagen\" + str(count) + \".jpg\", image)\n",
    "        os.remove(input_images_path + \"/\" + file_name)\n",
    "        count += 1"
   ]
  },
  {
   "cell_type": "markdown",
   "metadata": {},
   "source": [
    "------------------------------------------------------------\n",
    "SELECCIÓN DE OPCIONES: "
   ]
  },
  {
   "cell_type": "code",
   "execution_count": null,
   "metadata": {},
   "outputs": [],
   "source": [
    "# contador para el numero de foto, este contador siempre debe estar\n",
    "count = 0\n",
    "RenombrarSinExtensiones_MismaCarpeta(count)\n",
    "print()\n",
    "print()\n",
    "print(\"PROCESO TERMINADO SATISFACTORIAMENTE :) \")\n",
    "print()"
   ]
  }
 ],
 "metadata": {
  "kernelspec": {
   "display_name": "Python 3.10.5 64-bit",
   "language": "python",
   "name": "python3"
  },
  "language_info": {
   "codemirror_mode": {
    "name": "ipython",
    "version": 3
   },
   "file_extension": ".py",
   "mimetype": "text/x-python",
   "name": "python",
   "nbconvert_exporter": "python",
   "pygments_lexer": "ipython3",
   "version": "3.10.5"
  },
  "orig_nbformat": 4,
  "vscode": {
   "interpreter": {
    "hash": "5508d35a542872271bb1d1c7b3f059e24b1bbedc8ec34027859e266b42db5b7e"
   }
  }
 },
 "nbformat": 4,
 "nbformat_minor": 2
}
