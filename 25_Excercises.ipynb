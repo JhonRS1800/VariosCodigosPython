{
 "cells": [
  {
   "cell_type": "markdown",
   "metadata": {},
   "source": [
    "## Excercises\n",
    "\n",
    "### 1. Write a program that prints your name 100 times"
   ]
  },
  {
   "cell_type": "code",
   "execution_count": 22,
   "metadata": {},
   "outputs": [
    {
     "name": "stdout",
     "output_type": "stream",
     "text": [
      "Jonathan\n",
      "Jonathan\n",
      "Jonathan\n",
      "Jonathan\n",
      "Jonathan\n",
      "Jonathan\n",
      "Jonathan\n",
      "Jonathan\n",
      "Jonathan\n",
      "Jonathan\n",
      "Jonathan\n",
      "Jonathan\n",
      "Jonathan\n",
      "Jonathan\n",
      "Jonathan\n",
      "Jonathan\n",
      "Jonathan\n",
      "Jonathan\n",
      "Jonathan\n",
      "Jonathan\n",
      "Jonathan\n",
      "Jonathan\n",
      "Jonathan\n",
      "Jonathan\n",
      "Jonathan\n",
      "Jonathan\n",
      "Jonathan\n",
      "Jonathan\n",
      "Jonathan\n",
      "Jonathan\n",
      "Jonathan\n",
      "Jonathan\n",
      "Jonathan\n",
      "Jonathan\n",
      "Jonathan\n",
      "Jonathan\n",
      "Jonathan\n",
      "Jonathan\n",
      "Jonathan\n",
      "Jonathan\n",
      "Jonathan\n",
      "Jonathan\n",
      "Jonathan\n",
      "Jonathan\n",
      "Jonathan\n",
      "Jonathan\n",
      "Jonathan\n",
      "Jonathan\n",
      "Jonathan\n",
      "Jonathan\n",
      "Jonathan\n",
      "Jonathan\n",
      "Jonathan\n",
      "Jonathan\n",
      "Jonathan\n",
      "Jonathan\n",
      "Jonathan\n",
      "Jonathan\n",
      "Jonathan\n",
      "Jonathan\n",
      "Jonathan\n",
      "Jonathan\n",
      "Jonathan\n",
      "Jonathan\n",
      "Jonathan\n",
      "Jonathan\n",
      "Jonathan\n",
      "Jonathan\n",
      "Jonathan\n",
      "Jonathan\n",
      "Jonathan\n",
      "Jonathan\n",
      "Jonathan\n",
      "Jonathan\n",
      "Jonathan\n",
      "Jonathan\n",
      "Jonathan\n",
      "Jonathan\n",
      "Jonathan\n",
      "Jonathan\n",
      "Jonathan\n",
      "Jonathan\n",
      "Jonathan\n",
      "Jonathan\n",
      "Jonathan\n",
      "Jonathan\n",
      "Jonathan\n",
      "Jonathan\n",
      "Jonathan\n",
      "Jonathan\n",
      "Jonathan\n",
      "Jonathan\n",
      "Jonathan\n",
      "Jonathan\n",
      "Jonathan\n",
      "Jonathan\n",
      "Jonathan\n",
      "Jonathan\n",
      "Jonathan\n",
      "Jonathan\n"
     ]
    }
   ],
   "source": [
    "Name = \"Jonathan\"\n",
    "for i in range(100):            \n",
    "            print(\"{}\".format(Name)) # Print with a line break\n"
   ]
  },
  {
   "cell_type": "markdown",
   "metadata": {},
   "source": [
    "## 2. Write a program to fill the screen horizontally and vertically with your name. [Hint: add the option end='' into the print function to fill the screen horizontally.]"
   ]
  },
  {
   "cell_type": "code",
   "execution_count": 19,
   "metadata": {},
   "outputs": [
    {
     "name": "stdout",
     "output_type": "stream",
     "text": [
      "Jonathan Jonathan Jonathan Jonathan Jonathan Jonathan Jonathan Jonathan Jonathan Jonathan Jonathan Jonathan Jonathan Jonathan Jonathan Jonathan Jonathan Jonathan Jonathan Jonathan Jonathan Jonathan Jonathan Jonathan Jonathan Jonathan Jonathan Jonathan Jonathan Jonathan Jonathan Jonathan Jonathan Jonathan Jonathan Jonathan Jonathan Jonathan Jonathan Jonathan Jonathan Jonathan Jonathan Jonathan Jonathan Jonathan Jonathan Jonathan Jonathan Jonathan Jonathan Jonathan Jonathan Jonathan Jonathan Jonathan Jonathan Jonathan Jonathan Jonathan Jonathan Jonathan Jonathan Jonathan Jonathan Jonathan Jonathan Jonathan Jonathan Jonathan Jonathan Jonathan Jonathan Jonathan Jonathan Jonathan Jonathan Jonathan Jonathan Jonathan Jonathan Jonathan Jonathan Jonathan Jonathan Jonathan Jonathan Jonathan Jonathan Jonathan Jonathan Jonathan Jonathan Jonathan Jonathan Jonathan Jonathan Jonathan Jonathan Jonathan Jonathan Jonathan Jonathan Jonathan Jonathan Jonathan Jonathan Jonathan Jonathan Jonathan Jonathan Jonathan Jonathan Jonathan Jonathan Jonathan Jonathan Jonathan Jonathan Jonathan Jonathan Jonathan Jonathan Jonathan Jonathan Jonathan Jonathan Jonathan Jonathan Jonathan Jonathan Jonathan Jonathan Jonathan Jonathan Jonathan Jonathan Jonathan Jonathan Jonathan Jonathan Jonathan Jonathan Jonathan Jonathan Jonathan Jonathan Jonathan Jonathan Jonathan Jonathan Jonathan Jonathan Jonathan Jonathan Jonathan Jonathan Jonathan Jonathan Jonathan Jonathan Jonathan Jonathan Jonathan Jonathan Jonathan Jonathan Jonathan Jonathan Jonathan Jonathan Jonathan Jonathan Jonathan Jonathan Jonathan Jonathan Jonathan Jonathan Jonathan Jonathan Jonathan Jonathan Jonathan Jonathan Jonathan Jonathan Jonathan Jonathan Jonathan Jonathan Jonathan Jonathan Jonathan Jonathan Jonathan Jonathan Jonathan Jonathan Jonathan Jonathan Jonathan Jonathan Jonathan Jonathan Jonathan Jonathan Jonathan Jonathan Jonathan Jonathan Jonathan Jonathan Jonathan Jonathan Jonathan Jonathan Jonathan Jonathan Jonathan Jonathan Jonathan Jonathan Jonathan Jonathan Jonathan Jonathan Jonathan Jonathan Jonathan Jonathan Jonathan Jonathan Jonathan Jonathan Jonathan Jonathan Jonathan Jonathan Jonathan Jonathan Jonathan Jonathan Jonathan Jonathan Jonathan Jonathan Jonathan Jonathan Jonathan Jonathan Jonathan Jonathan Jonathan Jonathan Jonathan Jonathan Jonathan Jonathan Jonathan Jonathan Jonathan Jonathan Jonathan Jonathan Jonathan Jonathan Jonathan Jonathan Jonathan Jonathan Jonathan Jonathan Jonathan Jonathan Jonathan Jonathan Jonathan Jonathan Jonathan Jonathan Jonathan Jonathan Jonathan Jonathan Jonathan Jonathan Jonathan Jonathan Jonathan Jonathan Jonathan Jonathan Jonathan Jonathan Jonathan Jonathan Jonathan Jonathan Jonathan Jonathan Jonathan Jonathan Jonathan Jonathan Jonathan Jonathan Jonathan Jonathan Jonathan Jonathan Jonathan Jonathan Jonathan Jonathan Jonathan Jonathan Jonathan Jonathan Jonathan Jonathan Jonathan Jonathan Jonathan Jonathan Jonathan Jonathan Jonathan Jonathan Jonathan Jonathan Jonathan Jonathan Jonathan Jonathan Jonathan Jonathan Jonathan Jonathan Jonathan Jonathan Jonathan Jonathan Jonathan Jonathan Jonathan Jonathan Jonathan Jonathan Jonathan Jonathan Jonathan Jonathan Jonathan Jonathan Jonathan Jonathan Jonathan Jonathan Jonathan Jonathan Jonathan Jonathan Jonathan Jonathan Jonathan Jonathan Jonathan Jonathan Jonathan Jonathan Jonathan Jonathan Jonathan Jonathan Jonathan Jonathan Jonathan Jonathan Jonathan Jonathan Jonathan Jonathan Jonathan Jonathan Jonathan Jonathan Jonathan Jonathan Jonathan Jonathan Jonathan Jonathan Jonathan Jonathan Jonathan Jonathan Jonathan Jonathan Jonathan Jonathan Jonathan Jonathan Jonathan Jonathan Jonathan Jonathan Jonathan Jonathan Jonathan Jonathan Jonathan Jonathan Jonathan Jonathan Jonathan Jonathan Jonathan Jonathan Jonathan Jonathan Jonathan Jonathan Jonathan Jonathan Jonathan Jonathan Jonathan Jonathan Jonathan Jonathan Jonathan Jonathan Jonathan Jonathan Jonathan Jonathan Jonathan Jonathan Jonathan Jonathan Jonathan Jonathan Jonathan Jonathan Jonathan Jonathan Jonathan Jonathan Jonathan Jonathan Jonathan Jonathan Jonathan Jonathan Jonathan Jonathan Jonathan Jonathan Jonathan Jonathan Jonathan Jonathan Jonathan Jonathan Jonathan Jonathan Jonathan Jonathan Jonathan Jonathan Jonathan Jonathan Jonathan Jonathan Jonathan Jonathan Jonathan Jonathan Jonathan Jonathan Jonathan Jonathan Jonathan Jonathan Jonathan Jonathan Jonathan Jonathan Jonathan Jonathan Jonathan Jonathan Jonathan Jonathan Jonathan Jonathan Jonathan Jonathan Jonathan "
     ]
    }
   ],
   "source": [
    "Name = \"Jonathan\"\n",
    "for i in range(500):            \n",
    "            print(\"{}\".format(Name), end=\" \") # Print horizontally"
   ]
  },
  {
   "cell_type": "markdown",
   "metadata": {},
   "source": [
    "\n",
    "## 3. Write a program that outputs 100 lines, numbered 1 to 100, each with your name on it. The output should look like the output below.\n",
    "\n",
    "\n",
    "\n",
    "1 Your name <br>\n",
    "2 Your name <br>\n",
    "3 Your name <br>\n",
    "4 Your name <br>\n",
    "...         <br>\n",
    "100 Your name <br>\n",
    "\n"
   ]
  },
  {
   "cell_type": "markdown",
   "metadata": {},
   "source": []
  },
  {
   "cell_type": "code",
   "execution_count": 21,
   "metadata": {},
   "outputs": [
    {
     "name": "stdout",
     "output_type": "stream",
     "text": [
      "1 Jonathan\n",
      "2 Jonathan\n",
      "3 Jonathan\n",
      "4 Jonathan\n",
      "5 Jonathan\n",
      "6 Jonathan\n",
      "7 Jonathan\n",
      "8 Jonathan\n",
      "9 Jonathan\n",
      "10 Jonathan\n",
      "11 Jonathan\n",
      "12 Jonathan\n",
      "13 Jonathan\n",
      "14 Jonathan\n",
      "15 Jonathan\n",
      "16 Jonathan\n",
      "17 Jonathan\n",
      "18 Jonathan\n",
      "19 Jonathan\n",
      "20 Jonathan\n",
      "21 Jonathan\n",
      "22 Jonathan\n",
      "23 Jonathan\n",
      "24 Jonathan\n",
      "25 Jonathan\n",
      "26 Jonathan\n",
      "27 Jonathan\n",
      "28 Jonathan\n",
      "29 Jonathan\n",
      "30 Jonathan\n",
      "31 Jonathan\n",
      "32 Jonathan\n",
      "33 Jonathan\n",
      "34 Jonathan\n",
      "35 Jonathan\n",
      "36 Jonathan\n",
      "37 Jonathan\n",
      "38 Jonathan\n",
      "39 Jonathan\n",
      "40 Jonathan\n",
      "41 Jonathan\n",
      "42 Jonathan\n",
      "43 Jonathan\n",
      "44 Jonathan\n",
      "45 Jonathan\n",
      "46 Jonathan\n",
      "47 Jonathan\n",
      "48 Jonathan\n",
      "49 Jonathan\n",
      "50 Jonathan\n",
      "51 Jonathan\n",
      "52 Jonathan\n",
      "53 Jonathan\n",
      "54 Jonathan\n",
      "55 Jonathan\n",
      "56 Jonathan\n",
      "57 Jonathan\n",
      "58 Jonathan\n",
      "59 Jonathan\n",
      "60 Jonathan\n",
      "61 Jonathan\n",
      "62 Jonathan\n",
      "63 Jonathan\n",
      "64 Jonathan\n",
      "65 Jonathan\n",
      "66 Jonathan\n",
      "67 Jonathan\n",
      "68 Jonathan\n",
      "69 Jonathan\n",
      "70 Jonathan\n",
      "71 Jonathan\n",
      "72 Jonathan\n",
      "73 Jonathan\n",
      "74 Jonathan\n",
      "75 Jonathan\n",
      "76 Jonathan\n",
      "77 Jonathan\n",
      "78 Jonathan\n",
      "79 Jonathan\n",
      "80 Jonathan\n",
      "81 Jonathan\n",
      "82 Jonathan\n",
      "83 Jonathan\n",
      "84 Jonathan\n",
      "85 Jonathan\n",
      "86 Jonathan\n",
      "87 Jonathan\n",
      "88 Jonathan\n",
      "89 Jonathan\n",
      "90 Jonathan\n",
      "91 Jonathan\n",
      "92 Jonathan\n",
      "93 Jonathan\n",
      "94 Jonathan\n",
      "95 Jonathan\n",
      "96 Jonathan\n",
      "97 Jonathan\n",
      "98 Jonathan\n",
      "99 Jonathan\n",
      "100 Jonathan\n"
     ]
    }
   ],
   "source": [
    "Name = \"Jonathan\"\n",
    "for i in range(100):            \n",
    "            print(\"{} {}\".format(i+1,Name)) # Print with a line break\n"
   ]
  },
  {
   "cell_type": "markdown",
   "metadata": {},
   "source": [
    "## 4. Write a program that prints out a list of the integers from 1 to 20 and their squares. The output should look like this:\n",
    "\n",
    "1 --- 1 <br>\n",
    "2 --- 4 <br>\n",
    "3 --- 9 <br>\n",
    "... <br>\n",
    "20 --- 400 <br>"
   ]
  },
  {
   "cell_type": "code",
   "execution_count": 24,
   "metadata": {},
   "outputs": [
    {
     "name": "stdout",
     "output_type": "stream",
     "text": [
      "1 --- 1\n",
      "2 --- 4\n",
      "3 --- 9\n",
      "4 --- 16\n",
      "5 --- 25\n",
      "6 --- 36\n",
      "7 --- 49\n",
      "8 --- 64\n",
      "9 --- 81\n",
      "10 --- 100\n",
      "11 --- 121\n",
      "12 --- 144\n",
      "13 --- 169\n",
      "14 --- 196\n",
      "15 --- 225\n",
      "16 --- 256\n",
      "17 --- 289\n",
      "18 --- 324\n",
      "19 --- 361\n",
      "20 --- 400\n"
     ]
    }
   ],
   "source": [
    "for i in range(20):\n",
    "            square = (i+1) * (i+1)\n",
    "            print(\"{} --- {}\".format(i+1, square))"
   ]
  },
  {
   "cell_type": "markdown",
   "metadata": {},
   "source": [
    "## 5. Write a program that uses a for loop to print the numbers 8, 11, 14, 17, 20, . . . , 83, 86, 89."
   ]
  },
  {
   "cell_type": "code",
   "execution_count": 31,
   "metadata": {},
   "outputs": [
    {
     "name": "stdout",
     "output_type": "stream",
     "text": [
      "8, 11, 14, 17, 20, 23, 26, 29, 32, 35, 38, 41, 44, 47, 50, 53, 56, 59, 62, 65, 68, 71, 74, 77, 80, 83, 86, 89\n"
     ]
    }
   ],
   "source": [
    "for i in range(8,90,3):\n",
    "            if i==89:\n",
    "                        print(\"{}\".format(i))\n",
    "            else:\n",
    "                        print(\"{}\".format(i), end=\", \")\n"
   ]
  },
  {
   "cell_type": "markdown",
   "metadata": {},
   "source": [
    "## 6. Write a program that uses a for loop to print the numbers 100,98,96,...,4,2."
   ]
  },
  {
   "cell_type": "code",
   "execution_count": 4,
   "metadata": {},
   "outputs": [
    {
     "name": "stdout",
     "output_type": "stream",
     "text": [
      "100,98,96,94,92,90,88,86,84,82,80,78,76,74,72,70,68,66,64,62,60,58,56,54,52,50,48,46,44,42,40,38,36,34,32,30,28,26,24,22,20,18,16,14,12,10,8,6,4,2\n"
     ]
    }
   ],
   "source": [
    "for i in range(100,1,-2):\n",
    "            if(i==2):\n",
    "                    print(\"{}\".format(i))\n",
    "            else:\n",
    "                        print(\"{}\".format(i),end=\",\")"
   ]
  },
  {
   "cell_type": "markdown",
   "metadata": {},
   "source": [
    "## 7. Write a program that uses exactly four for loops to print the sequence of letters below\n",
    "\n",
    "* AAAAAAAAAABBBBBBBCDCDCDCDEFFFFFFG"
   ]
  },
  {
   "cell_type": "code",
   "execution_count": 8,
   "metadata": {},
   "outputs": [
    {
     "name": "stdout",
     "output_type": "stream",
     "text": [
      "AAAAAAAAAABBBBBBBCDCDCDCDEFFFFFFG"
     ]
    }
   ],
   "source": [
    "for i in range(10):\n",
    "            print(\"A\",end=\"\")\n",
    "for i in range(7):\n",
    "            print(\"B\",end=\"\")\n",
    "for i in range(4):\n",
    "            print(\"CD\",end=\"\")\n",
    "print(\"E\",end=\"\")\n",
    "for i in range(6):\n",
    "            print(\"F\",end=\"\")\n",
    "print(\"G\",end=\"\")"
   ]
  },
  {
   "cell_type": "markdown",
   "metadata": {},
   "source": [
    "## 8. Write a program that asks the user for their name and how many times to print it. The program should print out the user’s name the specified number of times"
   ]
  },
  {
   "cell_type": "code",
   "execution_count": 11,
   "metadata": {},
   "outputs": [
    {
     "name": "stdout",
     "output_type": "stream",
     "text": [
      "jonathan jonathan jonathan jonathan jonathan jonathan jonathan jonathan jonathan jonathan jonathan jonathan jonathan jonathan jonathan jonathan jonathan jonathan jonathan jonathan jonathan jonathan jonathan jonathan jonathan jonathan jonathan jonathan jonathan jonathan jonathan jonathan jonathan jonathan jonathan jonathan jonathan jonathan jonathan jonathan jonathan jonathan jonathan jonathan jonathan jonathan jonathan jonathan jonathan jonathan jonathan jonathan jonathan jonathan jonathan jonathan jonathan jonathan jonathan jonathan "
     ]
    }
   ],
   "source": [
    "username = input(\"Hello. What is your name?\")\n",
    "repeat = int(input(\"okey {} give me the number of times to print your name\".format(username)))\n",
    "\n",
    "for i in range(repeat):\n",
    "            print(username,end=\" \")"
   ]
  },
  {
   "cell_type": "markdown",
   "metadata": {},
   "source": [
    "## 9. The Fibonacci numbers are the sequence below, where the first two numbers are 1, and each number thereafter is the sum of the two preceding numbers. Write a program that asks the user how many Fibonacci numbers to print and then prints that many\n",
    "\n",
    "* 1, 1, 2, 3, 5, 8, 13, 21, 34, 55, 89 . . .\n",
    "\n",
    "#### fibonacci series formula\n",
    "* F 0 = 1\n",
    "* F 1 = 1\n",
    "* F n = F n – 2 + F n – 1 where n ≥ 2.\n"
   ]
  },
  {
   "cell_type": "code",
   "execution_count": 38,
   "metadata": {},
   "outputs": [],
   "source": [
    "def fibonacci_series(number_Fibonacci):\n",
    "\n",
    "            Fibonacci = []\n",
    "\n",
    "            for n in range(number_Fibonacci+1):\n",
    "                        if n == 0:\n",
    "                                    aux = 1\n",
    "                                    Fibonacci.append(aux)\n",
    "                        elif n == 1:\n",
    "                                    aux = 1\n",
    "                                    Fibonacci.append(aux)\n",
    "                        else:\n",
    "                                    aux = Fibonacci[n-2] + Fibonacci[n-1]\n",
    "                                    Fibonacci.append(aux)\n",
    "\n",
    "            return Fibonacci"
   ]
  },
  {
   "cell_type": "code",
   "execution_count": 40,
   "metadata": {},
   "outputs": [
    {
     "data": {
      "text/plain": [
       "[1, 1, 2, 3, 5, 8, 13, 21, 34, 55, 89, 144, 233, 377, 610, 987]"
      ]
     },
     "execution_count": 40,
     "metadata": {},
     "output_type": "execute_result"
    }
   ],
   "source": [
    "fibonacci_series(15)\n",
    "                        "
   ]
  },
  {
   "cell_type": "markdown",
   "metadata": {},
   "source": [
    "## 10. Use a for loop to print a box like the one below. Allow the user to specify how wide and how high the box should be. [Hint: print('*'*10) prints ten asterisks.]\n",
    "\n",
    "******************* <br>\n",
    "******************* <br>\n",
    "******************* <br>\n",
    "******************* <br>"
   ]
  },
  {
   "cell_type": "code",
   "execution_count": 50,
   "metadata": {},
   "outputs": [
    {
     "name": "stdout",
     "output_type": "stream",
     "text": [
      "***************\n",
      "***************\n",
      "***************\n",
      "***************\n",
      "***************\n",
      "***************\n"
     ]
    }
   ],
   "source": [
    "wide = int(input(\"Enter the Wide : \"))\n",
    "high = int(input(\"Enter the High : \"))\n",
    "\n",
    "for i in range(1,(high * wide)+1):\n",
    "            if i%wide == 0:\n",
    "                        print(\"*\")\n",
    "            else:\n",
    "                        print(\"*\",end=\"\")"
   ]
  },
  {
   "cell_type": "markdown",
   "metadata": {},
   "source": [
    "## 11. Use a for loop to print a box like the one below. Allow the user to specify how wide and how high the box should be.\n",
    "\n",
    "            ******************* \n",
    "            *                 *\n",
    "            *                 *\n",
    "            *******************"
   ]
  },
  {
   "cell_type": "code",
   "execution_count": 27,
   "metadata": {},
   "outputs": [
    {
     "name": "stdout",
     "output_type": "stream",
     "text": [
      "*********\n",
      "*       *\n",
      "*       *\n",
      "*       *\n",
      "*       *\n",
      "*       *\n",
      "*********\n"
     ]
    }
   ],
   "source": [
    "user_wide = int(input(\"Enter the wide of box : \"))\n",
    "user_high = int(input(\"Enter the high of box : \"))\n",
    "\n",
    "points = (user_wide * user_high)\n",
    "patern1 = \"*\" * user_wide\n",
    "patern2 = \"*\" + \" \" * (user_wide-2) + \"*\"\n",
    "\n",
    "for i in range(user_high):\n",
    "            if i == 0 or i == user_high-1:\n",
    "                        print(patern1)\n",
    "            else:\n",
    "                        print(patern2)"
   ]
  }
 ],
 "metadata": {
  "kernelspec": {
   "display_name": "Python 3.10.5 64-bit",
   "language": "python",
   "name": "python3"
  },
  "language_info": {
   "codemirror_mode": {
    "name": "ipython",
    "version": 3
   },
   "file_extension": ".py",
   "mimetype": "text/x-python",
   "name": "python",
   "nbconvert_exporter": "python",
   "pygments_lexer": "ipython3",
   "version": "3.10.5"
  },
  "orig_nbformat": 4,
  "vscode": {
   "interpreter": {
    "hash": "5508d35a542872271bb1d1c7b3f059e24b1bbedc8ec34027859e266b42db5b7e"
   }
  }
 },
 "nbformat": 4,
 "nbformat_minor": 2
}
