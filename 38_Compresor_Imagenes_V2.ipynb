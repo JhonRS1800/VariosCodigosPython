{
 "cells": [
  {
   "cell_type": "markdown",
   "metadata": {},
   "source": [
    "# Compresor de Imágenes\n",
    "\n",
    "## Acerca de\n",
    "El programa en general comprime las imagenes de un directorio o carpeta. Se tienen tres opciones de comprecion:\n",
    "1. Se comprimen cada una de las imagenes y se guardan en la misma carpeta. Esto asegura que los archivos anteriores a la compresion tambien queden en la misma carpeta por lo que estaran repetidos.\n",
    "2. **Primero se comprimen cada una de las imagenes contenidas en el directorio, despues de Guardan las imagenes comprimidas en el mismo directorio y finalmente se eliminan las imagenes que se usaron para la compresion. Esto asegura que con esta opcion los archivos de imagen no quedaran repetidos en el mismo directorio.**\n",
    "3. Se comprimen cada una de las imagenes contenidas en el directorio y las imagenes comprimidas se guardan en una nueva carpeta independiente a la de la fuente. Con esto se asegura que existiran dos carpetas, una con las imagenes sin comprimir y otra con las imagenes comprimidas. La carpeta que contiene a las carpetas comprimidas se creara automaticamente si es que no existe, de lo contrario se usara la carpeta existente con el nombre indicado en la direccion destino dada por el usuario.\n",
    "4. Se comprime unicamente una imagen, para esto se debe especificar el directorio fuente y el nombre de la imagen. El nombre de la imagen se especifica al final del codigo cuando se manda a llamar la funcion con la opcion numero 4.\n",
    "\n",
    "## ¿Cómo usar este programa?\n",
    "El uso de este programa es bastante sencillo pero dependera de las opciones elegidas:\n",
    "\n",
    "1. Caso 1: Para usar el programa con este caso solo basta con colocar la direccion(ruta) de la carpeta fuente de las imagenes y al final del codigo verificar que este elegida la opcion 1.\n",
    "2. **Caso 2: Para este caso, al igual que en el caso 1 basta con colocar la direccion de la carpeta fuente que finalmente sera la misma carpeta destino, y posteriormente se verifica al final del codigo que este eleida la opcion 2.**\n",
    "3. Caso 3: Para este caso se requiere ingresar tanto la direccion de la fuente como la direccion destino, la direccion destino se encuentra dentro de la funcion de la opcion 3. Para finalizar se requiere verificar que al final del codigo este seleccionada la opcion 3.\n",
    "4. Caso 4: Para esta opcion se debe colocar la direccion de la fuente y despues saltar al final del codigo donde se selecciona la opcion 4 y ahi colocar el nombre del archivo a comprimir.\n",
    "\n",
    "## Programación"
   ]
  },
  {
   "cell_type": "code",
   "execution_count": null,
   "metadata": {},
   "outputs": [],
   "source": [
    "from PIL import Image\n",
    "import os"
   ]
  },
  {
   "cell_type": "markdown",
   "metadata": {},
   "source": [
    "DIRECCIONES DE LAS CARPETAS:"
   ]
  },
  {
   "cell_type": "code",
   "execution_count": null,
   "metadata": {},
   "outputs": [],
   "source": [
    "# PEGAR AQUI LA DIRECCION DE LA CARPETA FUENTE CON LOS DIAGONALES INVERTIDOS\n",
    "# EJEMPLO: \"C:/Users/jon_r/Pictures/FOTOS/Mis Fotos/\"\n",
    "imgFoder = \"C:/Users/jon_r/Pictures/FOTOS/Mis Fotos/\""
   ]
  },
  {
   "cell_type": "markdown",
   "metadata": {},
   "source": [
    "--------------------------------------------------------------\n",
    "1. Opción numero 1"
   ]
  },
  {
   "cell_type": "code",
   "execution_count": null,
   "metadata": {},
   "outputs": [],
   "source": [
    "def comprimeGuardaMismoFolder():\n",
    "            if __name__ == \"__main__\":\n",
    "                        for filename in os.listdir(imgFoder):\n",
    "                                    name, extension = os.path.splitext(imgFoder + filename)\n",
    "\n",
    "                                    if extension in [\".jpg\", \".jpeg\", \".png\"]:\n",
    "                                                picture = Image.open(imgFoder + filename)\n",
    "                                                picture.save(imgFoder + \"compressed_\"+filename, optimize=True, quality=60)\n",
    "                                                print(name + \": \" + extension)"
   ]
  },
  {
   "cell_type": "markdown",
   "metadata": {},
   "source": [
    "2. Opción numero 2"
   ]
  },
  {
   "cell_type": "code",
   "execution_count": null,
   "metadata": {},
   "outputs": [],
   "source": [
    "def comprimeGuardaEliminaMismoFolder():\n",
    "            if __name__ == \"__main__\":\n",
    "                        for filename in os.listdir(imgFoder):\n",
    "                                    name, extension = os.path.splitext(imgFoder + filename)\n",
    "\n",
    "                                    if extension in [\".jpg\", \".jpeg\", \".png\"]:\n",
    "                                                picture = Image.open(imgFoder + filename)\n",
    "                                                #picture.save(imgFoder + \"compressed_\"+filename, optimize=True, quality=60)\n",
    "                                                picture.save(imgFoder + \"c\"+filename, optimize=True, quality=60)\n",
    "                                                os.remove(imgFoder + filename)\n",
    "                                                print(name + \": \" + extension)"
   ]
  },
  {
   "cell_type": "markdown",
   "metadata": {},
   "source": [
    "3. Opción numero 3"
   ]
  },
  {
   "cell_type": "code",
   "execution_count": null,
   "metadata": {},
   "outputs": [],
   "source": [
    "def comprimeGuardaDistintoFolder():\n",
    "            # PEGAR AQUI LA DIRECCION DE LA CARPETA DESTINO CON LOS DIAGONALES INVERTIDOS\n",
    "            # EJEMPLO: \"C:/Users/jon_r/Pictures/FOTOS/MisFotos_Compresser/\"\n",
    "            imgFoder2 = \"C:/Users/jon_r/Pictures/FOTOS/MisFotos_Compresser/\"\n",
    "            \n",
    "            if not os.path.exists(imgFoder2):\n",
    "                        os.makedirs(imgFoder2)\n",
    "                        print(\"Directorio creado: \", imgFoder2)\n",
    "                        print()\n",
    "            else:\n",
    "                        print()\n",
    "                        print(\"El directorio ya existe\")\n",
    "                        print()\n",
    "\n",
    "            if __name__ == \"__main__\":\n",
    "                        for filename in os.listdir(imgFoder):\n",
    "                                    name, extension = os.path.splitext(imgFoder + filename)\n",
    "\n",
    "                                    if extension in [\".jpg\", \".jpeg\", \".png\"]:\n",
    "                                                picture = Image.open(imgFoder + filename)\n",
    "                                                picture.save(imgFoder2 + \"compressed_\"+filename, optimize=True, quality=60)\n",
    "                                                print(name + \": \" + extension)\n"
   ]
  },
  {
   "cell_type": "markdown",
   "metadata": {},
   "source": [
    "4. Opción número 4"
   ]
  },
  {
   "cell_type": "code",
   "execution_count": null,
   "metadata": {},
   "outputs": [],
   "source": [
    "def comprimeGuardaImagen(imgFoder,imgName):\n",
    "            \n",
    "            name, extension = os.path.splitext(imgFoder + imgName)\n",
    "\n",
    "            if extension in [\".jpg\", \".jpeg\", \".png\"]:\n",
    "                        picture = Image.open(imgFoder + imgName)\n",
    "                        picture.save(imgFoder + \"compressed_\"+ imgName, optimize=True, quality=60)\n",
    "                        #picture.save(imgFoder + \"c\"+imgName, optimize=True, quality=60)\n",
    "                        #os.remove(imgFoder + imgName)\n",
    "                        print(name + \": \" + extension)"
   ]
  },
  {
   "cell_type": "markdown",
   "metadata": {},
   "source": [
    "----------------------------------------------------------\n",
    "OPCIÓN SELECCIONADA:"
   ]
  },
  {
   "cell_type": "code",
   "execution_count": null,
   "metadata": {},
   "outputs": [],
   "source": [
    "#comprimeGuardaMismoFolder()\n",
    "#comprimeGuardaEliminaMismoFolder() #YO ESPERARIA USAR MAS ESTA\n",
    "#comprimeGuardaDistintoFolder()"
   ]
  },
  {
   "cell_type": "markdown",
   "metadata": {},
   "source": [
    "OPCIÓN PARA COMPRIMIR SOLO UNA IMAGEN:"
   ]
  },
  {
   "cell_type": "code",
   "execution_count": null,
   "metadata": {},
   "outputs": [],
   "source": [
    "'''\n",
    "imgName=\"image39.jpg\" # Colocar aqui el nombre de la imagen a comprimir, ejemplo: \"image39.jpg\"\n",
    "comprimeGuardaImagen(imgFoder,imgName)  #Recibe dos argumentos\n",
    "'''"
   ]
  }
 ],
 "metadata": {
  "kernelspec": {
   "display_name": "Python 3.10.5 64-bit",
   "language": "python",
   "name": "python3"
  },
  "language_info": {
   "codemirror_mode": {
    "name": "ipython",
    "version": 3
   },
   "file_extension": ".py",
   "mimetype": "text/x-python",
   "name": "python",
   "nbconvert_exporter": "python",
   "pygments_lexer": "ipython3",
   "version": "3.10.5"
  },
  "orig_nbformat": 4,
  "vscode": {
   "interpreter": {
    "hash": "5508d35a542872271bb1d1c7b3f059e24b1bbedc8ec34027859e266b42db5b7e"
   }
  }
 },
 "nbformat": 4,
 "nbformat_minor": 2
}
