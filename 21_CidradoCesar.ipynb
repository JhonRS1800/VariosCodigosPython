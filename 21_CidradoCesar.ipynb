{
 "cells": [
  {
   "cell_type": "markdown",
   "metadata": {},
   "source": [
    "# PROGRAMA QUE CIFRA UN MENSAJE DE TEXTO POR CIFRADO CESAR"
   ]
  },
  {
   "cell_type": "code",
   "execution_count": 5,
   "metadata": {},
   "outputs": [
    {
     "name": "stdout",
     "output_type": "stream",
     "text": [
      "LZAL SLTZHPL LZ JOMYHKV\n"
     ]
    }
   ],
   "source": [
    "alfabeto = \"ABCDEFGHIJKLMNÑOPQRSTUVWXYZ\"\n",
    "mensaje = \"Este mensaje es cifrado\"\n",
    "clave = 7\n",
    "cifrado = \"\"\n",
    "\n",
    "for letra in mensaje.upper(): #Para poner el mensaje en mayusculas\n",
    "            if letra in alfabeto:\n",
    "                        indice = alfabeto.find(letra)\n",
    "                        indice += clave\n",
    "                        if indice >= 27:\n",
    "                                    indice -= 27\n",
    "                        cifrado += alfabeto[indice]\n",
    "            else:\n",
    "                        cifrado += letra\n",
    "\n",
    "print(cifrado)"
   ]
  },
  {
   "cell_type": "markdown",
   "metadata": {},
   "source": [
    "# DESIFRADO DEL MENSAJE CONOCIENDO LA CLAVE"
   ]
  },
  {
   "cell_type": "code",
   "execution_count": 6,
   "metadata": {},
   "outputs": [
    {
     "name": "stdout",
     "output_type": "stream",
     "text": [
      "ESTE MENSAJE ES CIFRADO\n"
     ]
    }
   ],
   "source": [
    "alfabeto = \"ABCDEFGHIJKLMNÑOPQRSTUVWXYZ\"\n",
    "cifrado = \"LZAL SLTZHPL LZ JOMYHKV\"\n",
    "clave = 7\n",
    "mensaje = \"\"\n",
    "\n",
    "for letra in cifrado.upper(): #Para poner el mensaje en mayusculas\n",
    "            if letra in alfabeto:\n",
    "                        indice = alfabeto.find(letra)\n",
    "                        indice -= clave\n",
    "                        if indice < 0:\n",
    "                                    indice += 27\n",
    "                        mensaje += alfabeto[indice]\n",
    "            else:\n",
    "                        mensaje += letra\n",
    "\n",
    "print(mensaje)"
   ]
  },
  {
   "cell_type": "markdown",
   "metadata": {},
   "source": [
    "# DESIFANADO MENSAJE SIN CONOCER LA CLAVE"
   ]
  },
  {
   "cell_type": "code",
   "execution_count": 9,
   "metadata": {},
   "outputs": [
    {
     "name": "stdout",
     "output_type": "stream",
     "text": [
      "Clave:1 - KYZK RKSYGOK KY IÑLXGJU\n",
      "Clave:2 - JXYJ QJRXFÑJ JX HNKWFIT\n",
      "Clave:3 - IWXI PIQWENI IW GMJVEHS\n",
      "Clave:4 - HVWH OHPVDMH HV FLIUDGR\n",
      "Clave:5 - GUVG ÑGOUCLG GU EKHTCFQ\n",
      "Clave:6 - FTUF NFÑTBKF FT DJGSBEP\n",
      "Clave:7 - ESTE MENSAJE ES CIFRADO\n",
      "Clave:8 - DRSD LDMRZID DR BHEQZCÑ\n",
      "Clave:9 - CQRC KCLQYHC CQ AGDPYBN\n",
      "Clave:10 - BPQB JBKPXGB BP ZFCOXAM\n",
      "Clave:11 - AOPA IAJOWFA AO YEBÑWZL\n",
      "Clave:12 - ZÑOZ HZIÑVEZ ZÑ XDANVYK\n",
      "Clave:13 - YNÑY GYHNUDY YN WCZMUXJ\n",
      "Clave:14 - XMNX FXGMTCX XM VBYLTWI\n",
      "Clave:15 - WLMW EWFLSBW WL UAXKSVH\n",
      "Clave:16 - VKLV DVEKRAV VK TZWJRUG\n",
      "Clave:17 - UJKU CUDJQZU UJ SYVIQTF\n",
      "Clave:18 - TIJT BTCIPYT TI RXUHPSE\n",
      "Clave:19 - SHIS ASBHOXS SH QWTGORD\n",
      "Clave:20 - RGHR ZRAGÑWR RG PVSFÑQC\n",
      "Clave:21 - QFGQ YQZFNVQ QF OURENPB\n",
      "Clave:22 - PEFP XPYEMUP PE ÑTQDMOA\n",
      "Clave:23 - ODEO WOXDLTO OD NSPCLÑZ\n",
      "Clave:24 - ÑCDÑ VÑWCKSÑ ÑC MROBKNY\n",
      "Clave:25 - NBCN UNVBJRN NB LQÑAJMX\n",
      "Clave:26 - MABM TMUAIQM MA KPNZILW\n"
     ]
    }
   ],
   "source": [
    "alfabeto = \"ABCDEFGHIJKLMNÑOPQRSTUVWXYZ\"\n",
    "cifrado = \"LZAL SLTZHPL LZ JOMYHKV\"\n",
    "\n",
    "for clave in range(1, len(alfabeto)):\n",
    "            mensaje = \"\"\n",
    "            for letra in cifrado.upper(): #Para poner el mensaje en mayusculas\n",
    "                        if letra in alfabeto:\n",
    "                                    indice = alfabeto.find(letra)\n",
    "                                    indice -= clave\n",
    "                                    if indice < 0:\n",
    "                                                indice += 27\n",
    "                                    mensaje += alfabeto[indice]\n",
    "                        else:\n",
    "                                    mensaje += letra\n",
    "            print(f\"Clave:{clave} - {mensaje}\")"
   ]
  }
 ],
 "metadata": {
  "kernelspec": {
   "display_name": "Python 3.10.4 64-bit",
   "language": "python",
   "name": "python3"
  },
  "language_info": {
   "codemirror_mode": {
    "name": "ipython",
    "version": 3
   },
   "file_extension": ".py",
   "mimetype": "text/x-python",
   "name": "python",
   "nbconvert_exporter": "python",
   "pygments_lexer": "ipython3",
   "version": "3.10.4"
  },
  "orig_nbformat": 4,
  "vscode": {
   "interpreter": {
    "hash": "5508d35a542872271bb1d1c7b3f059e24b1bbedc8ec34027859e266b42db5b7e"
   }
  }
 },
 "nbformat": 4,
 "nbformat_minor": 2
}
