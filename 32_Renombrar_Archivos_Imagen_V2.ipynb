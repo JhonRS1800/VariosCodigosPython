{
 "cells": [
  {
   "cell_type": "markdown",
   "metadata": {},
   "source": [
    "# RENOMBRAMIENTO Y ORDENAMIENTO DE ARCHIVOS DE TIPO IMAGEN\n",
    "\n",
    "## ACERCA DE\n",
    "Este programa consiste en ordenar todos los archivos contenidos en una carpeta fuente. Aqui hay varias opciones de guardado, entre las que se encuentran:\n",
    "1. Guardado un una carpeta diferente\n",
    "2. Guardado en la misma carpeta y reemplazo con los archivos renombrados\n",
    "\n",
    "## Programacion"
   ]
  },
  {
   "cell_type": "code",
   "execution_count": null,
   "metadata": {},
   "outputs": [],
   "source": [
    "import cv2\n",
    "import os"
   ]
  },
  {
   "cell_type": "code",
   "execution_count": null,
   "metadata": {},
   "outputs": [],
   "source": [
    "\n",
    "#Direccion de carpeta con mis fotos o imagenes, se debe cambiar la orientacion de el slash\n",
    "# Ejemplo: \"C:/Users/jon_r/Pictures/FOTOS/FOTOS2\"\n",
    "input_images_path = \"C:/Users/jon_r/Pictures/FOTOS/FOTOS\""
   ]
  },
  {
   "cell_type": "code",
   "execution_count": null,
   "metadata": {},
   "outputs": [],
   "source": [
    "# Creacion de una carpeta que guardara nuevas imagenes de este script\n",
    "# Ejemplo: \"C:/Users/jon_r/Pictures/FOTOS/Mis_Fotos_jpg\"\n",
    "output_images_path = \"C:/Users/jon_r/Pictures/FOTOS/Mis_Fotos_jpg\""
   ]
  },
  {
   "cell_type": "code",
   "execution_count": null,
   "metadata": {},
   "outputs": [],
   "source": [
    "'''\n",
    "input_images_path = input(\"INGRESA LA DIRECCION DE LA CARPETA PRIMARIA: \")\n",
    "output_images_path = input(\"INGRESA LA DIRECCION DE LA CAPETA SECUNDARIA: \")\n",
    "'''"
   ]
  },
  {
   "cell_type": "code",
   "execution_count": null,
   "metadata": {},
   "outputs": [],
   "source": [
    "# Obtencion de una lista con todos los archivos dentro de esa direccion\n",
    "files_names = os.listdir(input_images_path)\n",
    "print(files_names)\n",
    "print()"
   ]
  },
  {
   "cell_type": "code",
   "execution_count": null,
   "metadata": {},
   "outputs": [],
   "source": [
    "# Si la carpeta output_images_path no existe se crea\n",
    "if not os.path.exists(output_images_path):\n",
    "    os.makedirs(output_images_path)\n",
    "    print(\"Directorio creado: \", output_images_path)\n",
    "    print()\n",
    "else:\n",
    "    print(\"El directorio ya existe\")"
   ]
  },
  {
   "cell_type": "markdown",
   "metadata": {},
   "source": [
    "----------------------------------------------------\n",
    "### FUNCIONES"
   ]
  },
  {
   "cell_type": "code",
   "execution_count": null,
   "metadata": {},
   "outputs": [],
   "source": [
    "def RenombrarSinExtensiones(count):\n",
    "    for file_name in files_names:\n",
    "        # Imprime la direccion de cada una de las imagenes\n",
    "        image_path = input_images_path + \"/\" + file_name\n",
    "        print(image_path) \n",
    "\n",
    "        # Lee cada uno de los archivos\n",
    "        image = cv2.imread(image_path)\n",
    "\n",
    "        # si el archivo leido no es una imagen se lo salta\n",
    "        if image is None:\n",
    "            continue\n",
    "\n",
    "        # Guarda cada una de las imagenes en la carpeta creada anteriormente\n",
    "        cv2.imwrite(output_images_path + \"/image\" + str(count) + \".jpg\", image)\n",
    "        count += 1"
   ]
  },
  {
   "cell_type": "code",
   "execution_count": null,
   "metadata": {},
   "outputs": [],
   "source": [
    "def RenombrarConExtensiones(count):        \n",
    "    for file_name in files_names:\n",
    "        # Filtro que solo tomara en cuenta las extenciones seleccionadas\n",
    "        if file_name.split(\".\")[-1] not in [\"jpeg\", \"png\"]:\n",
    "            continue\n",
    "\n",
    "        #Imprime la direccion de cada una de las imagenes\n",
    "        image_path = input_images_path + \"/\" + file_name\n",
    "        print(image_path) \n",
    "\n",
    "        # Lee cada uno de los archivos\n",
    "        image = cv2.imread(image_path)\n",
    "\n",
    "        # si el archivo leido no es una imagen se lo salta\n",
    "        if image is None:\n",
    "            continue\n",
    "        \n",
    "        # Guarda cada una de las imagenes en la carpeta creada anteriormente\n",
    "        cv2.imwrite(output_images_path + \"/image\" + str(count) + \".jpg\", image)\n",
    "        count += 1"
   ]
  },
  {
   "cell_type": "code",
   "execution_count": null,
   "metadata": {},
   "outputs": [],
   "source": [
    "def RenombrarProcesarConExtensiones(count):        \n",
    "    for file_name in files_names:\n",
    "        # Filtro que solo tomara en cuenta las extenciones seleccionadas\n",
    "        if file_name.split(\".\")[-1] not in [\"jpeg\", \"png\"]:\n",
    "            continue\n",
    "\n",
    "        #Imprime la direccion de cada una de las imagenes\n",
    "        image_path = input_images_path + \"/\" + file_name\n",
    "        print(image_path) \n",
    "\n",
    "        # Lee cada uno de los archivos\n",
    "        image = cv2.imread(image_path)\n",
    "\n",
    "        # si el archivo leido no es una imagen se lo salta\n",
    "        if image is None:\n",
    "            continue\n",
    "        \n",
    "        # Procesamiento de las imagenes\n",
    "        image = cv2.cvtColor(image, cv2.COLOR_BGR2GRAY)\n",
    "        image = cv2.resize(image, (500, 500), interpolation=cv2.INTER_CUBIC)\n",
    "        \n",
    "        # Guarda cada una de las imagenes en la carpeta creada anteriormente\n",
    "        cv2.imwrite(output_images_path + \"/image\" + str(count) + \".jpg\", image)\n",
    "        count += 1"
   ]
  },
  {
   "cell_type": "code",
   "execution_count": null,
   "metadata": {},
   "outputs": [],
   "source": [
    "def RenombrarProcesarSinExtensiones(count):\n",
    "    for file_name in files_names:\n",
    "        #Imprime la direccion de cada una de las imagenes\n",
    "        image_path = input_images_path + \"/\" + file_name\n",
    "        print(image_path) \n",
    "        \n",
    "        # Lee cada uno de los archivos\n",
    "        image = cv2.imread(image_path)\n",
    "\n",
    "        # si el archivo leido no es una imagen se lo salta\n",
    "        if image is None:\n",
    "            continue\n",
    "        \n",
    "        # Procesamiento de las imagenes\n",
    "        image = cv2.cvtColor(image, cv2.COLOR_BGR2GRAY)\n",
    "        image = cv2.resize(image, (500, 500), interpolation=cv2.INTER_CUBIC)\n",
    "        \n",
    "        # Guarda cada una de las imagenes en la carpeta creada anteriormente\n",
    "        cv2.imwrite(output_images_path + \"/image\" + str(count) + \".jpg\", image)\n",
    "        count += 1\n",
    "        "
   ]
  },
  {
   "cell_type": "code",
   "execution_count": null,
   "metadata": {},
   "outputs": [],
   "source": [
    "def RenombrarSinExtensiones_MismaCarpeta(count):\n",
    "    for file_name in files_names:\n",
    "        # Imprime la direccion de cada una de las imagenes\n",
    "        image_path = input_images_path + \"/\" + file_name\n",
    "        print(image_path) \n",
    "\n",
    "        # Lee cada uno de los archivos\n",
    "        image = cv2.imread(image_path)\n",
    "\n",
    "        # si el archivo leido no es una imagen se lo salta\n",
    "        if image is None:\n",
    "            continue\n",
    "\n",
    "        # Guarda cada una de las imagenes en la carpeta creada anteriormente\n",
    "        cv2.imwrite(input_images_path + \"/image\" + str(count) + \".jpg\", image)\n",
    "        os.remove(input_images_path + \"/\" +file_name)\n",
    "        count += 1"
   ]
  },
  {
   "cell_type": "code",
   "execution_count": null,
   "metadata": {},
   "outputs": [],
   "source": [
    "def muestraImagenesProceso(image):\n",
    "     # Muestra cada una de las imagenes durante el proceso\n",
    "    cv2.imshow(\"Image\", image)\n",
    "    cv2.waitKey(0)\n",
    "cv2.destroyAllWindows()"
   ]
  },
  {
   "cell_type": "markdown",
   "metadata": {},
   "source": [
    "------------------------------------------------------------\n",
    "SELECCIÓN DE OPCIONES: "
   ]
  },
  {
   "cell_type": "code",
   "execution_count": null,
   "metadata": {},
   "outputs": [],
   "source": [
    "# contador para el numero de foto, este contador siempre debe estar\n",
    "count = 0\n",
    "RenombrarSinExtensiones_MismaCarpeta(count)"
   ]
  }
 ],
 "metadata": {
  "kernelspec": {
   "display_name": "Python 3.10.5 64-bit",
   "language": "python",
   "name": "python3"
  },
  "language_info": {
   "codemirror_mode": {
    "name": "ipython",
    "version": 3
   },
   "file_extension": ".py",
   "mimetype": "text/x-python",
   "name": "python",
   "nbconvert_exporter": "python",
   "pygments_lexer": "ipython3",
   "version": "3.10.5"
  },
  "orig_nbformat": 4,
  "vscode": {
   "interpreter": {
    "hash": "5508d35a542872271bb1d1c7b3f059e24b1bbedc8ec34027859e266b42db5b7e"
   }
  }
 },
 "nbformat": 4,
 "nbformat_minor": 2
}
